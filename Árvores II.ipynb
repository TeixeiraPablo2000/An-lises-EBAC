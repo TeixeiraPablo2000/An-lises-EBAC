{
  "cells": [
    {
      "cell_type": "markdown",
      "metadata": {
        "id": "Sen0KONIWYyM"
      },
      "source": [
        "![image.png](attachment:image.png)"
      ]
    },
    {
      "cell_type": "markdown",
      "metadata": {
        "id": "4aYBhz9KWYyO"
      },
      "source": [
        "# Árvores II - Tarefa 3"
      ]
    },
    {
      "cell_type": "markdown",
      "metadata": {
        "id": "mc3wdttuWYyO"
      },
      "source": [
        "### 1. Carregar as bases\n",
        "\n",
        "Vamos utilizar nesta tarefa as bases de reconhecimento de atividade humana através do celular. Carregue novamente as bases salvas na tarefa I."
      ]
    },
    {
      "cell_type": "code",
      "execution_count": 33,
      "metadata": {
        "id": "_nUzydoyWYyP"
      },
      "outputs": [],
      "source": [
        "import pandas as pd\n",
        "import seaborn as sns\n",
        "import matplotlib.pyplot as plt\n",
        "import numpy as np\n",
        "from sklearn.tree import DecisionTreeClassifier\n",
        "from sklearn.model_selection import train_test_split\n",
        "from sklearn.metrics import ConfusionMatrixDisplay\n",
        "from sklearn.model_selection import GridSearchCV\n",
        "from sklearn.tree import DecisionTreeClassifier\n",
        "from sklearn.model_selection import train_test_split, cross_val_score\n",
        "from sklearn.metrics import accuracy_score, ConfusionMatrixDisplay\n",
        "import time\n"
      ]
    },
    {
      "cell_type": "code",
      "execution_count": 34,
      "metadata": {
        "colab": {
          "base_uri": "https://localhost:8080/"
        },
        "id": "mMaJsW1GWYyP",
        "outputId": "b70e4abc-e578-45b4-e43e-6502c4a6c6d7"
      },
      "outputs": [
        {
          "output_type": "stream",
          "name": "stdout",
          "text": [
            "Bases carregadas com sucesso!\n"
          ]
        }
      ],
      "source": [
        "# Carregar as bases\n",
        "X_train = pd.read_csv('/content/X_train.csv')\n",
        "Y_train = pd.read_csv('/content/y_train.txt', header=None, names=['target'])\n",
        "X_test = pd.read_csv('/content/X_test.csv')\n",
        "Y_test = pd.read_csv('/content/y_test.txt', header=None, names=['target'])\n",
        "\n",
        "print(\"Bases carregadas com sucesso!\")\n"
      ]
    },
    {
      "cell_type": "markdown",
      "metadata": {
        "id": "ClyPhekRWYyQ"
      },
      "source": [
        "### 2. Calcule os ```ccp_alphas```.\n",
        "\n",
        "Vamos seguir uma lógica bem em linha com o que já estamso acostumados, com as seguintes orientações:\n",
        "\n",
        "- Utilizar treinamento e teste conforme já vieram definidos originalmente\n",
        "- Por pragmatismo, utilizar ```min_samples_leaf=20```\n",
        "- Utilize as mesmas \"3 melhores variáveis\" identificadas no exercício anterior."
      ]
    },
    {
      "cell_type": "code",
      "source": [
        "# Utilizar as três variáveis mais importantes\n",
        "top_3_features = ['tGravityAcc-min()-X', 'fBodyAccJerk-bandsEnergy()-1,24', 'angle(Y,gravityMean)']\n",
        "X_train_top3 = X_train[top_3_features]\n",
        "X_test_top3 = X_test[top_3_features]\n",
        "\n",
        "# Modelo com min_samples_leaf=20\n",
        "clf = DecisionTreeClassifier(min_samples_leaf=20, random_state=42)\n",
        "path = clf.cost_complexity_pruning_path(X_train_top3, Y_train)\n",
        "ccp_alphas = path.ccp_alphas\n",
        "\n",
        "# Ajustando o modelo para cada valor de alpha\n",
        "clfs = []\n",
        "for ccp_alpha in ccp_alphas:\n",
        "    clf = DecisionTreeClassifier(min_samples_leaf=20, random_state=42, ccp_alpha=ccp_alpha)\n",
        "    clf.fit(X_train_top3, Y_train)\n",
        "    clfs.append(clf)\n",
        "\n",
        "# Exibindo os valores de ccp_alphas\n",
        "print(\"Valores de ccp_alphas:\", ccp_alphas)\n",
        "\n"
      ],
      "metadata": {
        "colab": {
          "base_uri": "https://localhost:8080/"
        },
        "id": "RLvXlPxwcuLL",
        "outputId": "b3a225d2-bc57-4720-d673-72d531c25f6f"
      },
      "execution_count": 35,
      "outputs": [
        {
          "output_type": "stream",
          "name": "stdout",
          "text": [
            "Valores de ccp_alphas: [0.00000000e+00 5.22702041e-06 6.59906426e-06 7.22842411e-06\n",
            " 8.46900856e-06 8.47900739e-06 9.06782735e-06 1.05466513e-05\n",
            " 1.18466777e-05 1.19979754e-05 1.23872999e-05 2.26695684e-05\n",
            " 2.62319291e-05 2.78669816e-05 3.35509612e-05 3.59633454e-05\n",
            " 3.59639254e-05 3.63161869e-05 3.80591809e-05 4.17462240e-05\n",
            " 4.37389319e-05 4.76060936e-05 4.87672178e-05 5.14693733e-05\n",
            " 5.87197700e-05 5.98571391e-05 6.12078346e-05 6.34747914e-05\n",
            " 7.11883329e-05 8.14946866e-05 9.33470655e-05 9.75054182e-05\n",
            " 1.03992147e-04 1.12441059e-04 1.21239579e-04 1.28008023e-04\n",
            " 1.29900225e-04 1.30576714e-04 1.48821476e-04 1.50404447e-04\n",
            " 1.59571645e-04 1.79253862e-04 1.80577657e-04 1.93008801e-04\n",
            " 2.03345272e-04 2.05436329e-04 2.05568421e-04 2.40183341e-04\n",
            " 2.56666341e-04 2.72780659e-04 2.87265788e-04 2.87570095e-04\n",
            " 3.09367581e-04 3.21574272e-04 3.57693404e-04 3.67851529e-04\n",
            " 3.75297018e-04 4.10312152e-04 4.15307573e-04 4.15986122e-04\n",
            " 4.19677650e-04 4.76627675e-04 4.88563049e-04 4.91508667e-04\n",
            " 4.93410095e-04 4.93786808e-04 5.06414027e-04 5.11495215e-04\n",
            " 5.32153586e-04 5.41190011e-04 5.98052425e-04 6.07220581e-04\n",
            " 6.08720249e-04 6.51373094e-04 6.53013109e-04 7.01527018e-04\n",
            " 7.13808235e-04 7.39291126e-04 7.45055698e-04 7.68551331e-04\n",
            " 8.53412728e-04 8.66862178e-04 8.84814498e-04 8.88170176e-04\n",
            " 9.20091001e-04 9.50634813e-04 9.64393376e-04 1.06036006e-03\n",
            " 1.09014169e-03 1.11830842e-03 1.12004073e-03 1.22053066e-03\n",
            " 1.48587311e-03 1.79464489e-03 1.79719950e-03 1.88062105e-03\n",
            " 1.90094443e-03 1.90782047e-03 2.04607727e-03 2.04997637e-03\n",
            " 2.12674961e-03 2.16385984e-03 2.24422866e-03 2.49959739e-03\n",
            " 2.59007682e-03 2.79693358e-03 3.26048062e-03 3.60621242e-03\n",
            " 4.20267585e-03 5.31083069e-03 5.34572911e-03 6.88407984e-03\n",
            " 8.24712763e-03 1.17255727e-02 4.41235910e-02 4.67250302e-02\n",
            " 1.09363718e-01 1.67257720e-01 1.86138242e-01]\n"
          ]
        }
      ]
    },
    {
      "cell_type": "markdown",
      "metadata": {
        "id": "ESpHqfM1WYyQ"
      },
      "source": [
        "### 3. *Grid Search*\n",
        "\n",
        "Vou deixar especificações iniciais mínimas, que visam limitar o tempo de máquina, pois um procedimento desses pode demorar muito tempo dependendo da especificação. Mas conforme você for ficando confortável com o tempo consumido pelo procedimento, pode fazer um algoritmo mais exaustivo, por exemplo, avaliando mais valores de ```ccp_alpha```.\n",
        "\n",
        "- Meça o tempo\n",
        "- Utilize a base de treinamento\n",
        "- Utilize um *cross validation* do tipo *k-fold*, especifique k=10\n",
        "- Você pode ler 1 a cada ```k``` valores para uma melhor varredura utilizando, por exemplo, ```ccp_alpha[::10]```\n",
        "- Não se esqueça de limitar o número de variáveis"
      ]
    },
    {
      "cell_type": "code",
      "source": [
        "# Modelo com min_samples_leaf=20\n",
        "clf = DecisionTreeClassifier(min_samples_leaf=20, random_state=42)\n",
        "path = clf.cost_complexity_pruning_path(X_train_top3, Y_train)\n",
        "ccp_alphas = path.ccp_alphas[::10]  # Selecionar 1 a cada 10 valores de ccp_alpha\n",
        "\n",
        "# Medir o tempo do procedimento\n",
        "start_time = time.time()\n",
        "\n",
        "# Grid Search com cross-validation k-fold (k=10)\n",
        "clf = DecisionTreeClassifier(min_samples_leaf=20, random_state=42)\n",
        "grid_search = GridSearchCV(clf, param_grid={'ccp_alpha': ccp_alphas}, cv=10)\n",
        "grid_search.fit(X_train_top3, Y_train)\n",
        "\n",
        "end_time = time.time()\n",
        "\n",
        "# Melhor valor de ccp_alpha\n",
        "best_alpha = grid_search.best_params_['ccp_alpha']\n",
        "print(\"Melhor valor de ccp_alpha:\", best_alpha)\n",
        "\n",
        "# Tempo total do procedimento\n",
        "print(\"Tempo total do procedimento (em segundos):\", end_time - start_time)\n"
      ],
      "metadata": {
        "colab": {
          "base_uri": "https://localhost:8080/"
        },
        "id": "TZkjU00QdhEY",
        "outputId": "859f63b5-3181-4347-e6d3-8cfb0a5efec5"
      },
      "execution_count": 36,
      "outputs": [
        {
          "output_type": "stream",
          "name": "stdout",
          "text": [
            "Melhor valor de ccp_alpha: 0.005345729106908115\n",
            "Tempo total do procedimento (em segundos): 3.523226022720337\n"
          ]
        }
      ]
    },
    {
      "cell_type": "markdown",
      "metadata": {
        "id": "mZJHrCJ8WYyQ"
      },
      "source": [
        "### 4. Avaliando a árvore\n",
        "\n",
        "- Obtenha a árvore na melhor configuração treinada em toda a base de treino\n",
        "- Calcule a acurácia dessa árvore na base de testes\n",
        "- Visualize a matriz de confusão"
      ]
    },
    {
      "cell_type": "code",
      "execution_count": 37,
      "metadata": {
        "colab": {
          "base_uri": "https://localhost:8080/",
          "height": 466
        },
        "id": "YE84BTltWYyR",
        "outputId": "8e2ad48d-6ff3-4638-c237-db5821dc25bb"
      },
      "outputs": [
        {
          "output_type": "stream",
          "name": "stdout",
          "text": [
            "Acurácia na base de testes: 0.7183576518493383\n"
          ]
        },
        {
          "output_type": "display_data",
          "data": {
            "text/plain": [
              "<Figure size 640x480 with 2 Axes>"
            ],
            "image/png": "[encoded data removed]"
          },
          "metadata": {}
        }
      ],
      "source": [
        "# Treinar a árvore com o melhor valor de ccp_alpha\n",
        "best_ccp_alpha = 0.005345729106908115  # Valor encontrado anteriormente\n",
        "clf = DecisionTreeClassifier(min_samples_leaf=20, random_state=42, ccp_alpha=best_ccp_alpha)\n",
        "clf.fit(X_train_top3, Y_train)\n",
        "\n",
        "# Calcular a acurácia na base de testes\n",
        "Y_pred = clf.predict(X_test_top3)\n",
        "accuracy = accuracy_score(Y_test, Y_pred)\n",
        "print(\"Acurácia na base de testes:\", accuracy)\n",
        "\n",
        "# Visualizar a matriz de confusão\n",
        "ConfusionMatrixDisplay.from_predictions(Y_test, Y_pred)\n",
        "plt.show()\n",
        "\n"
      ]
    },
    {
      "cell_type": "markdown",
      "metadata": {
        "id": "RwqzHwbxWYyR"
      },
      "source": [
        "### 5. Melhorando a árvore\n",
        "\n",
        "A melhor forma de se melhorar um algoritmo é colocando nele novas variáveis que agreguem valor. Podemos usar a força-bruta e ir colocando variáveis aleatoriamente - ou colocar todas e deixar rodando por um bom tempo - ou utilizar uma lógica eficiente e fazer uma seleção de variáveis.\n",
        "\n",
        "- Observe que há classes mais fáceis e mais difíceis de se identificar\n",
        "- Crie uma variável binária para uma das classes de maior erro\n",
        "- Fala uma árvore de classificação bem simples para esta variável:\n",
        "    - utilize ```mean_samples_leaf=20```\n",
        "    - utilize ```max_depth=4```\n",
        "    - coloque todas as variáveis\n",
        "- Observe a importância das variáveis, e selecione as 3 com maior importância\n",
        "- Rode novamente o algoritmo acima com as 3 novas variáveis e avalie a acurácia"
      ]
    },
    {
      "cell_type": "markdown",
      "source": [],
      "metadata": {
        "id": "8UN2S6VxfuRL"
      }
    },
    {
      "cell_type": "code",
      "source": [
        "# Supondo que a classe de maior erro seja a classe 1\n",
        "Y_train_binary = (Y_train['target'] == 1).astype(int)\n",
        "Y_test_binary = (Y_test['target'] == 1).astype(int)\n",
        "\n",
        "print(\"Variável binária criada com sucesso!\")\n",
        "print(Y_train_binary.head())\n"
      ],
      "metadata": {
        "colab": {
          "base_uri": "https://localhost:8080/"
        },
        "id": "qcekjafKgDar",
        "outputId": "14447cf7-adc7-4555-c1ec-b551ce88eb35"
      },
      "execution_count": 38,
      "outputs": [
        {
          "output_type": "stream",
          "name": "stdout",
          "text": [
            "Variável binária criada com sucesso!\n",
            "0    0\n",
            "1    0\n",
            "2    0\n",
            "3    0\n",
            "4    0\n",
            "Name: target, dtype: int64\n"
          ]
        }
      ]
    },
    {
      "cell_type": "code",
      "source": [
        "# Adicionar algumas variáveis adicionais\n",
        "additional_features = ['tBodyAcc-mean()-X', 'tBodyAcc-mean()-Y', 'tBodyAcc-mean()-Z']  # Exemplo de variáveis adicionais\n",
        "X_train_extended = X_train[top_3_features + additional_features]\n",
        "X_test_extended = X_test[top_3_features + additional_features]\n"
      ],
      "metadata": {
        "id": "U48DYCCBfkc5"
      },
      "execution_count": 39,
      "outputs": []
    },
    {
      "cell_type": "code",
      "source": [
        "# Nova iteração com variáveis adicionais\n",
        "clf_extended = DecisionTreeClassifier(min_samples_leaf=20, random_state=42, ccp_alpha=best_ccp_alpha)\n",
        "clf_extended.fit(X_train_extended, Y_train)\n",
        "\n",
        "# Calcular a acurácia com variáveis adicionais\n",
        "Y_pred_extended = clf_extended.predict(X_test_extended)\n",
        "accuracy_extended = accuracy_score(Y_test, Y_pred_extended)\n",
        "print(\"Acurácia na base de testes com variáveis adicionais:\", accuracy_extended)\n",
        "\n",
        "# Visualizar a nova matriz de confusão\n",
        "ConfusionMatrixDisplay.from_predictions(Y_test, Y_pred_extended)\n",
        "plt.show()\n"
      ],
      "metadata": {
        "colab": {
          "base_uri": "https://localhost:8080/",
          "height": 466
        },
        "id": "jEW1puqvflwv",
        "outputId": "7405a7c2-a928-4d4a-bbb3-79986af8bb07"
      },
      "execution_count": 40,
      "outputs": [
        {
          "output_type": "stream",
          "name": "stdout",
          "text": [
            "Acurácia na base de testes com variáveis adicionais: 0.7183576518493383\n"
          ]
        },
        {
          "output_type": "display_data",
          "data": {
            "text/plain": [
              "<Figure size 640x480 with 2 Axes>"
            ],
            "image/png": "[encoded data removed]"
          },
          "metadata": {}
        }
      ]
    },
    {
      "cell_type": "markdown",
      "source": [
        "Não entendi o porquê de duas acuracias distintas seguindo distindos métodos, então deixei as duas para que possam identificar porque há esta disparidade."
      ],
      "metadata": {
        "id": "yuFfZAaRgoju"
      }
    },
    {
      "cell_type": "code",
      "source": [
        "# Supondo que a classe de maior erro seja a classe 1\n",
        "Y_train_binary = (Y_train['target'] == 1).astype(int)\n",
        "Y_test_binary = (Y_test['target'] == 1).astype(int)\n",
        "\n",
        "print(\"Variável binária criada com sucesso!\")\n",
        "print(Y_train_binary.head())\n"
      ],
      "metadata": {
        "colab": {
          "base_uri": "https://localhost:8080/"
        },
        "id": "qnp8-SctfpX4",
        "outputId": "325dc095-fc9f-42b2-ca9c-5045622199fe"
      },
      "execution_count": 41,
      "outputs": [
        {
          "output_type": "stream",
          "name": "stdout",
          "text": [
            "Variável binária criada com sucesso!\n",
            "0    0\n",
            "1    0\n",
            "2    0\n",
            "3    0\n",
            "4    0\n",
            "Name: target, dtype: int64\n"
          ]
        }
      ]
    },
    {
      "cell_type": "code",
      "source": [
        "# Modelo com min_samples_leaf=20 e max_depth=4\n",
        "clf_binary = DecisionTreeClassifier(min_samples_leaf=20, max_depth=4, random_state=42)\n",
        "clf_binary.fit(X_train, Y_train_binary)\n",
        "\n",
        "# Obter a importância das variáveis\n",
        "feature_importances_binary = clf_binary.feature_importances_\n",
        "\n",
        "# Criar um dataframe com a importância das variáveis\n",
        "importances_df_binary = pd.DataFrame({'feature': X_train.columns, 'importance': feature_importances_binary})\n",
        "\n",
        "# Ordenar as variáveis pela importância\n",
        "importances_df_binary = importances_df_binary.sort_values(by='importance', ascending=False)\n",
        "\n",
        "# Selecionar as 3 variáveis mais importantes\n",
        "top_3_features_binary = importances_df_binary.head(3)\n",
        "print(\"As 3 variáveis mais importantes são:\")\n",
        "print(top_3_features_binary)\n"
      ],
      "metadata": {
        "colab": {
          "base_uri": "https://localhost:8080/"
        },
        "id": "05xNEuoSgdZV",
        "outputId": "6a368e38-a25f-4ee7-c68c-e89f13eea2f0"
      },
      "execution_count": 42,
      "outputs": [
        {
          "output_type": "stream",
          "name": "stdout",
          "text": [
            "As 3 variáveis mais importantes são:\n",
            "                       feature  importance\n",
            "168      tBodyGyroJerk-mad()-X    0.352154\n",
            "505          fBodyAccMag-std()    0.350738\n",
            "67   tGravityAcc-arCoeff()-X,1    0.113027\n"
          ]
        }
      ]
    },
    {
      "cell_type": "code",
      "source": [
        "# Utilizar as três novas variáveis mais importantes\n",
        "new_top_3_features = top_3_features_binary['feature'].tolist()\n",
        "X_train_new_top3 = X_train[new_top_3_features]\n",
        "X_test_new_top3 = X_test[new_top_3_features]\n",
        "\n",
        "# Treinar a árvore com o melhor valor de ccp_alpha\n",
        "best_ccp_alpha = 0.005345729106908115  # Valor encontrado anteriormente\n",
        "clf_new_top3 = DecisionTreeClassifier(min_samples_leaf=20, random_state=42, ccp_alpha=best_ccp_alpha)\n",
        "clf_new_top3.fit(X_train_new_top3, Y_train)\n",
        "\n",
        "# Calcular a acurácia na base de testes\n",
        "Y_pred_new_top3 = clf_new_top3.predict(X_test_new_top3)\n",
        "accuracy_new_top3 = accuracy_score(Y_test, Y_pred_new_top3)\n",
        "print(\"Acurácia na base de testes com as novas variáveis:\", accuracy_new_top3)\n",
        "\n",
        "# Visualizar a nova matriz de confusão\n",
        "ConfusionMatrixDisplay.from_predictions(Y_test, Y_pred_new_top3)\n",
        "plt.show()\n"
      ],
      "metadata": {
        "colab": {
          "base_uri": "https://localhost:8080/",
          "height": 466
        },
        "id": "GyC9fRgFgivD",
        "outputId": "50d332e3-12be-4b9a-bef0-9add324cb5db"
      },
      "execution_count": 43,
      "outputs": [
        {
          "output_type": "stream",
          "name": "stdout",
          "text": [
            "Acurácia na base de testes com as novas variáveis: 0.6277570410587038\n"
          ]
        },
        {
          "output_type": "display_data",
          "data": {
            "text/plain": [
              "<Figure size 640x480 with 2 Axes>"
            ],
            "image/png": "[encoded data removed]"
          },
          "metadata": {}
        }
      ]
    }
  ],
  "metadata": {
    "kernelspec": {
      "display_name": "Python 3",
      "language": "python",
      "name": "python3"
    },
    "language_info": {
      "codemirror_mode": {
        "name": "ipython",
        "version": 3
      },
      "file_extension": ".py",
      "mimetype": "text/x-python",
      "name": "python",
      "nbconvert_exporter": "python",
      "pygments_lexer": "ipython3",
      "version": "3.8.5"
    },
    "toc": {
      "base_numbering": 1,
      "nav_menu": {},
      "number_sections": false,
      "sideBar": true,
      "skip_h1_title": true,
      "title_cell": "Índice",
      "title_sidebar": "Conteúdo",
      "toc_cell": false,
      "toc_position": {},
      "toc_section_display": true,
      "toc_window_display": true
    },
    "varInspector": {
      "cols": {
        "lenName": 16,
        "lenType": 16,
        "lenVar": 40
      },
      "kernels_config": {
        "python": {
          "delete_cmd_postfix": "",
          "delete_cmd_prefix": "del ",
          "library": "var_list.py",
          "varRefreshCmd": "print(var_dic_list())"
        },
        "r": {
          "delete_cmd_postfix": ") ",
          "delete_cmd_prefix": "rm(",
          "library": "var_list.r",
          "varRefreshCmd": "cat(var_dic_list()) "
        }
      },
      "types_to_exclude": [
        "module",
        "function",
        "builtin_function_or_method",
        "instance",
        "_Feature"
      ],
      "window_display": false
    },
    "colab": {
      "provenance": []
    }
  },
  "nbformat": 4,
  "nbformat_minor": 0
}