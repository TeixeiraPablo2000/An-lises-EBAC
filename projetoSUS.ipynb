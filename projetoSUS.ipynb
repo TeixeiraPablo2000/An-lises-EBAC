{
  "cells": [
    {
      "cell_type": "markdown",
      "metadata": {
        "id": "s9BWuNffFtIa"
      },
      "source": [
        "# Módulo 06 Tarefa 2"
      ]
    },
    {
      "cell_type": "code",
      "execution_count": 6,
      "metadata": {
        "colab": {
          "base_uri": "https://localhost:8080/",
          "height": 446
        },
        "id": "ZthHdSLgFtIc",
        "outputId": "6599dd89-689f-4b3b-a536-eee94091372c"
      },
      "outputs": [
        {
          "output_type": "execute_result",
          "data": {
            "text/plain": [
              "   ORIGEM   CODESTAB  CODMUNNASC  LOCNASC  IDADEMAE  ESTCIVMAE  \\\n",
              "0       1  2679477.0      110001        1        19        5.0   \n",
              "1       1  2679477.0      110001        1        29        2.0   \n",
              "2       1  2679477.0      110001        1        37        9.0   \n",
              "3       1  2516500.0      110001        1        30        5.0   \n",
              "4       1  2516500.0      110001        1        30        2.0   \n",
              "\n",
              "            ESCMAE  CODOCUPMAE  QTDFILVIVO  QTDFILMORT  ...  KOTELCHUCK  \\\n",
              "0      8 a 11 anos         NaN         0.0         0.0  ...           5   \n",
              "1      8 a 11 anos    999992.0         1.0         0.0  ...           5   \n",
              "2      8 a 11 anos    513205.0         2.0         0.0  ...           5   \n",
              "3  12 anos ou mais    231205.0         0.0         0.0  ...           4   \n",
              "4      8 a 11 anos    999992.0         1.0         0.0  ...           5   \n",
              "\n",
              "  CONTADOR munResStatus munResTipo               munResNome  munResUf  \\\n",
              "0        1        ATIVO      MUNIC    Alta Floresta D'Oeste  Rondônia   \n",
              "1        2        ATIVO      MUNIC    Alta Floresta D'Oeste  Rondônia   \n",
              "2        3        ATIVO      MUNIC    Alta Floresta D'Oeste  Rondônia   \n",
              "3        4        ATIVO      MUNIC  Alto Alegre dos Parecis  Rondônia   \n",
              "4        5        ATIVO      MUNIC    Alta Floresta D'Oeste  Rondônia   \n",
              "\n",
              "   munResLat munResLon  munResAlt  munResArea  \n",
              "0  -11.93554 -61.99982      338.0    7067.025  \n",
              "1  -11.93554 -61.99982      338.0    7067.025  \n",
              "2  -11.93554 -61.99982      338.0    7067.025  \n",
              "3  -12.13178 -61.85308      397.0    3958.273  \n",
              "4  -11.93554 -61.99982      338.0    7067.025  \n",
              "\n",
              "[5 rows x 69 columns]"
            ],
            "text/html": [
              "\n",
              "  <div id=\"df-ccbdd799-fa7e-4dca-a450-062d7333f57c\" class=\"colab-df-container\">\n",
              "    <div>\n",
              "<style scoped>\n",
              "    .dataframe tbody tr th:only-of-type {\n",
              "        vertical-align: middle;\n",
              "    }\n",
              "\n",
              "    .dataframe tbody tr th {\n",
              "        vertical-align: top;\n",
              "    }\n",
              "\n",
              "    .dataframe thead th {\n",
              "        text-align: right;\n",
              "    }\n",
              "</style>\n",
              "<table border=\"1\" class=\"dataframe\">\n",
              "  <thead>\n",
              "    <tr style=\"text-align: right;\">\n",
              "      <th></th>\n",
              "      <th>ORIGEM</th>\n",
              "      <th>CODESTAB</th>\n",
              "      <th>CODMUNNASC</th>\n",
              "      <th>LOCNASC</th>\n",
              "      <th>IDADEMAE</th>\n",
              "      <th>ESTCIVMAE</th>\n",
              "      <th>ESCMAE</th>\n",
              "      <th>CODOCUPMAE</th>\n",
              "      <th>QTDFILVIVO</th>\n",
              "      <th>QTDFILMORT</th>\n",
              "      <th>...</th>\n",
              "      <th>KOTELCHUCK</th>\n",
              "      <th>CONTADOR</th>\n",
              "      <th>munResStatus</th>\n",
              "      <th>munResTipo</th>\n",
              "      <th>munResNome</th>\n",
              "      <th>munResUf</th>\n",
              "      <th>munResLat</th>\n",
              "      <th>munResLon</th>\n",
              "      <th>munResAlt</th>\n",
              "      <th>munResArea</th>\n",
              "    </tr>\n",
              "  </thead>\n",
              "  <tbody>\n",
              "    <tr>\n",
              "      <th>0</th>\n",
              "      <td>1</td>\n",
              "      <td>2679477.0</td>\n",
              "      <td>110001</td>\n",
              "      <td>1</td>\n",
              "      <td>19</td>\n",
              "      <td>5.0</td>\n",
              "      <td>8 a 11 anos</td>\n",
              "      <td>NaN</td>\n",
              "      <td>0.0</td>\n",
              "      <td>0.0</td>\n",
              "      <td>...</td>\n",
              "      <td>5</td>\n",
              "      <td>1</td>\n",
              "      <td>ATIVO</td>\n",
              "      <td>MUNIC</td>\n",
              "      <td>Alta Floresta D'Oeste</td>\n",
              "      <td>Rondônia</td>\n",
              "      <td>-11.93554</td>\n",
              "      <td>-61.99982</td>\n",
              "      <td>338.0</td>\n",
              "      <td>7067.025</td>\n",
              "    </tr>\n",
              "    <tr>\n",
              "      <th>1</th>\n",
              "      <td>1</td>\n",
              "      <td>2679477.0</td>\n",
              "      <td>110001</td>\n",
              "      <td>1</td>\n",
              "      <td>29</td>\n",
              "      <td>2.0</td>\n",
              "      <td>8 a 11 anos</td>\n",
              "      <td>999992.0</td>\n",
              "      <td>1.0</td>\n",
              "      <td>0.0</td>\n",
              "      <td>...</td>\n",
              "      <td>5</td>\n",
              "      <td>2</td>\n",
              "      <td>ATIVO</td>\n",
              "      <td>MUNIC</td>\n",
              "      <td>Alta Floresta D'Oeste</td>\n",
              "      <td>Rondônia</td>\n",
              "      <td>-11.93554</td>\n",
              "      <td>-61.99982</td>\n",
              "      <td>338.0</td>\n",
              "      <td>7067.025</td>\n",
              "    </tr>\n",
              "    <tr>\n",
              "      <th>2</th>\n",
              "      <td>1</td>\n",
              "      <td>2679477.0</td>\n",
              "      <td>110001</td>\n",
              "      <td>1</td>\n",
              "      <td>37</td>\n",
              "      <td>9.0</td>\n",
              "      <td>8 a 11 anos</td>\n",
              "      <td>513205.0</td>\n",
              "      <td>2.0</td>\n",
              "      <td>0.0</td>\n",
              "      <td>...</td>\n",
              "      <td>5</td>\n",
              "      <td>3</td>\n",
              "      <td>ATIVO</td>\n",
              "      <td>MUNIC</td>\n",
              "      <td>Alta Floresta D'Oeste</td>\n",
              "      <td>Rondônia</td>\n",
              "      <td>-11.93554</td>\n",
              "      <td>-61.99982</td>\n",
              "      <td>338.0</td>\n",
              "      <td>7067.025</td>\n",
              "    </tr>\n",
              "    <tr>\n",
              "      <th>3</th>\n",
              "      <td>1</td>\n",
              "      <td>2516500.0</td>\n",
              "      <td>110001</td>\n",
              "      <td>1</td>\n",
              "      <td>30</td>\n",
              "      <td>5.0</td>\n",
              "      <td>12 anos ou mais</td>\n",
              "      <td>231205.0</td>\n",
              "      <td>0.0</td>\n",
              "      <td>0.0</td>\n",
              "      <td>...</td>\n",
              "      <td>4</td>\n",
              "      <td>4</td>\n",
              "      <td>ATIVO</td>\n",
              "      <td>MUNIC</td>\n",
              "      <td>Alto Alegre dos Parecis</td>\n",
              "      <td>Rondônia</td>\n",
              "      <td>-12.13178</td>\n",
              "      <td>-61.85308</td>\n",
              "      <td>397.0</td>\n",
              "      <td>3958.273</td>\n",
              "    </tr>\n",
              "    <tr>\n",
              "      <th>4</th>\n",
              "      <td>1</td>\n",
              "      <td>2516500.0</td>\n",
              "      <td>110001</td>\n",
              "      <td>1</td>\n",
              "      <td>30</td>\n",
              "      <td>2.0</td>\n",
              "      <td>8 a 11 anos</td>\n",
              "      <td>999992.0</td>\n",
              "      <td>1.0</td>\n",
              "      <td>0.0</td>\n",
              "      <td>...</td>\n",
              "      <td>5</td>\n",
              "      <td>5</td>\n",
              "      <td>ATIVO</td>\n",
              "      <td>MUNIC</td>\n",
              "      <td>Alta Floresta D'Oeste</td>\n",
              "      <td>Rondônia</td>\n",
              "      <td>-11.93554</td>\n",
              "      <td>-61.99982</td>\n",
              "      <td>338.0</td>\n",
              "      <td>7067.025</td>\n",
              "    </tr>\n",
              "  </tbody>\n",
              "</table>\n",
              "<p>5 rows × 69 columns</p>\n",
              "</div>\n",
              "    <div class=\"colab-df-buttons\">\n",
              "\n",
              "  <div class=\"colab-df-container\">\n",
              "    <button class=\"colab-df-convert\" onclick=\"convertToInteractive('df-ccbdd799-fa7e-4dca-a450-062d7333f57c')\"\n",
              "            title=\"Convert this dataframe to an interactive table.\"\n",
              "            style=\"display:none;\">\n",
              "\n",
              "  <svg xmlns=\"http://www.w3.org/2000/svg\" height=\"24px\" viewBox=\"0 -960 960 960\">\n",
              "    <path d=\"M120-120v-720h720v720H120Zm60-500h600v-160H180v160Zm220 220h160v-160H400v160Zm0 220h160v-160H400v160ZM180-400h160v-160H180v160Zm440 0h160v-160H620v160ZM180-180h160v-160H180v160Zm440 0h160v-160H620v160Z\"/>\n",
              "  </svg>\n",
              "    </button>\n",
              "\n",
              "  <style>\n",
              "    .colab-df-container {\n",
              "      display:flex;\n",
              "      gap: 12px;\n",
              "    }\n",
              "\n",
              "    .colab-df-convert {\n",
              "      background-color: #E8F0FE;\n",
              "      border: none;\n",
              "      border-radius: 50%;\n",
              "      cursor: pointer;\n",
              "      display: none;\n",
              "      fill: #1967D2;\n",
              "      height: 32px;\n",
              "      padding: 0 0 0 0;\n",
              "      width: 32px;\n",
              "    }\n",
              "\n",
              "    .colab-df-convert:hover {\n",
              "      background-color: #E2EBFA;\n",
              "      box-shadow: 0px 1px 2px rgba(60, 64, 67, 0.3), 0px 1px 3px 1px rgba(60, 64, 67, 0.15);\n",
              "      fill: #174EA6;\n",
              "    }\n",
              "\n",
              "    .colab-df-buttons div {\n",
              "      margin-bottom: 4px;\n",
              "    }\n",
              "\n",
              "    [theme=dark] .colab-df-convert {\n",
              "      background-color: #3B4455;\n",
              "      fill: #D2E3FC;\n",
              "    }\n",
              "\n",
              "    [theme=dark] .colab-df-convert:hover {\n",
              "      background-color: #434B5C;\n",
              "      box-shadow: 0px 1px 3px 1px rgba(0, 0, 0, 0.15);\n",
              "      filter: drop-shadow(0px 1px 2px rgba(0, 0, 0, 0.3));\n",
              "      fill: #FFFFFF;\n",
              "    }\n",
              "  </style>\n",
              "\n",
              "    <script>\n",
              "      const buttonEl =\n",
              "        document.querySelector('#df-ccbdd799-fa7e-4dca-a450-062d7333f57c button.colab-df-convert');\n",
              "      buttonEl.style.display =\n",
              "        google.colab.kernel.accessAllowed ? 'block' : 'none';\n",
              "\n",
              "      async function convertToInteractive(key) {\n",
              "        const element = document.querySelector('#df-ccbdd799-fa7e-4dca-a450-062d7333f57c');\n",
              "        const dataTable =\n",
              "          await google.colab.kernel.invokeFunction('convertToInteractive',\n",
              "                                                    [key], {});\n",
              "        if (!dataTable) return;\n",
              "\n",
              "        const docLinkHtml = 'Like what you see? Visit the ' +\n",
              "          '<a target=\"_blank\" href=https://colab.research.google.com/notebooks/data_table.ipynb>data table notebook</a>'\n",
              "          + ' to learn more about interactive tables.';\n",
              "        element.innerHTML = '';\n",
              "        dataTable['output_type'] = 'display_data';\n",
              "        await google.colab.output.renderOutput(dataTable, element);\n",
              "        const docLink = document.createElement('div');\n",
              "        docLink.innerHTML = docLinkHtml;\n",
              "        element.appendChild(docLink);\n",
              "      }\n",
              "    </script>\n",
              "  </div>\n",
              "\n",
              "\n",
              "<div id=\"df-95af77ff-5114-4e33-bb1c-726a3149dadb\">\n",
              "  <button class=\"colab-df-quickchart\" onclick=\"quickchart('df-95af77ff-5114-4e33-bb1c-726a3149dadb')\"\n",
              "            title=\"Suggest charts\"\n",
              "            style=\"display:none;\">\n",
              "\n",
              "<svg xmlns=\"http://www.w3.org/2000/svg\" height=\"24px\"viewBox=\"0 0 24 24\"\n",
              "     width=\"24px\">\n",
              "    <g>\n",
              "        <path d=\"M19 3H5c-1.1 0-2 .9-2 2v14c0 1.1.9 2 2 2h14c1.1 0 2-.9 2-2V5c0-1.1-.9-2-2-2zM9 17H7v-7h2v7zm4 0h-2V7h2v10zm4 0h-2v-4h2v4z\"/>\n",
              "    </g>\n",
              "</svg>\n",
              "  </button>\n",
              "\n",
              "<style>\n",
              "  .colab-df-quickchart {\n",
              "      --bg-color: #E8F0FE;\n",
              "      --fill-color: #1967D2;\n",
              "      --hover-bg-color: #E2EBFA;\n",
              "      --hover-fill-color: #174EA6;\n",
              "      --disabled-fill-color: #AAA;\n",
              "      --disabled-bg-color: #DDD;\n",
              "  }\n",
              "\n",
              "  [theme=dark] .colab-df-quickchart {\n",
              "      --bg-color: #3B4455;\n",
              "      --fill-color: #D2E3FC;\n",
              "      --hover-bg-color: #434B5C;\n",
              "      --hover-fill-color: #FFFFFF;\n",
              "      --disabled-bg-color: #3B4455;\n",
              "      --disabled-fill-color: #666;\n",
              "  }\n",
              "\n",
              "  .colab-df-quickchart {\n",
              "    background-color: var(--bg-color);\n",
              "    border: none;\n",
              "    border-radius: 50%;\n",
              "    cursor: pointer;\n",
              "    display: none;\n",
              "    fill: var(--fill-color);\n",
              "    height: 32px;\n",
              "    padding: 0;\n",
              "    width: 32px;\n",
              "  }\n",
              "\n",
              "  .colab-df-quickchart:hover {\n",
              "    background-color: var(--hover-bg-color);\n",
              "    box-shadow: 0 1px 2px rgba(60, 64, 67, 0.3), 0 1px 3px 1px rgba(60, 64, 67, 0.15);\n",
              "    fill: var(--button-hover-fill-color);\n",
              "  }\n",
              "\n",
              "  .colab-df-quickchart-complete:disabled,\n",
              "  .colab-df-quickchart-complete:disabled:hover {\n",
              "    background-color: var(--disabled-bg-color);\n",
              "    fill: var(--disabled-fill-color);\n",
              "    box-shadow: none;\n",
              "  }\n",
              "\n",
              "  .colab-df-spinner {\n",
              "    border: 2px solid var(--fill-color);\n",
              "    border-color: transparent;\n",
              "    border-bottom-color: var(--fill-color);\n",
              "    animation:\n",
              "      spin 1s steps(1) infinite;\n",
              "  }\n",
              "\n",
              "  @keyframes spin {\n",
              "    0% {\n",
              "      border-color: transparent;\n",
              "      border-bottom-color: var(--fill-color);\n",
              "      border-left-color: var(--fill-color);\n",
              "    }\n",
              "    20% {\n",
              "      border-color: transparent;\n",
              "      border-left-color: var(--fill-color);\n",
              "      border-top-color: var(--fill-color);\n",
              "    }\n",
              "    30% {\n",
              "      border-color: transparent;\n",
              "      border-left-color: var(--fill-color);\n",
              "      border-top-color: var(--fill-color);\n",
              "      border-right-color: var(--fill-color);\n",
              "    }\n",
              "    40% {\n",
              "      border-color: transparent;\n",
              "      border-right-color: var(--fill-color);\n",
              "      border-top-color: var(--fill-color);\n",
              "    }\n",
              "    60% {\n",
              "      border-color: transparent;\n",
              "      border-right-color: var(--fill-color);\n",
              "    }\n",
              "    80% {\n",
              "      border-color: transparent;\n",
              "      border-right-color: var(--fill-color);\n",
              "      border-bottom-color: var(--fill-color);\n",
              "    }\n",
              "    90% {\n",
              "      border-color: transparent;\n",
              "      border-bottom-color: var(--fill-color);\n",
              "    }\n",
              "  }\n",
              "</style>\n",
              "\n",
              "  <script>\n",
              "    async function quickchart(key) {\n",
              "      const quickchartButtonEl =\n",
              "        document.querySelector('#' + key + ' button');\n",
              "      quickchartButtonEl.disabled = true;  // To prevent multiple clicks.\n",
              "      quickchartButtonEl.classList.add('colab-df-spinner');\n",
              "      try {\n",
              "        const charts = await google.colab.kernel.invokeFunction(\n",
              "            'suggestCharts', [key], {});\n",
              "      } catch (error) {\n",
              "        console.error('Error during call to suggestCharts:', error);\n",
              "      }\n",
              "      quickchartButtonEl.classList.remove('colab-df-spinner');\n",
              "      quickchartButtonEl.classList.add('colab-df-quickchart-complete');\n",
              "    }\n",
              "    (() => {\n",
              "      let quickchartButtonEl =\n",
              "        document.querySelector('#df-95af77ff-5114-4e33-bb1c-726a3149dadb button');\n",
              "      quickchartButtonEl.style.display =\n",
              "        google.colab.kernel.accessAllowed ? 'block' : 'none';\n",
              "    })();\n",
              "  </script>\n",
              "</div>\n",
              "\n",
              "    </div>\n",
              "  </div>\n"
            ],
            "application/vnd.google.colaboratory.intrinsic+json": {
              "type": "dataframe",
              "variable_name": "df"
            }
          },
          "metadata": {},
          "execution_count": 6
        }
      ],
      "source": [
        "import pandas as pd\n",
        "import matplotlib.pyplot as plt\n",
        "import seaborn as sns\n",
        "\n",
        "df = pd.read_csv('/content/b1abb33c4f.csv')\n",
        "df.head()"
      ]
    },
    {
      "cell_type": "markdown",
      "metadata": {
        "id": "6UgFE4yeFtId"
      },
      "source": [
        "####  1) Na base do SINASC do DataSUS, faça um boxplot da idade da mãe."
      ]
    },
    {
      "cell_type": "code",
      "execution_count": 10,
      "metadata": {
        "colab": {
          "base_uri": "https://localhost:8080/",
          "height": 564
        },
        "id": "NKXMjelOFtId",
        "outputId": "4496bd56-c044-4f83-fd4a-5fd328f60951"
      },
      "outputs": [
        {
          "output_type": "display_data",
          "data": {
            "text/plain": [
              "<Figure size 1000x600 with 1 Axes>"
            ],
            "image/png": "[encoded data removed]"
          },
          "metadata": {}
        }
      ],
      "source": [
        "idade_mae = df['IDADEMAE']\n",
        "\n",
        "# Criar o boxplot\n",
        "plt.figure(figsize=(10, 6))\n",
        "plt.boxplot(idade_mae.dropna(), vert=False)\n",
        "plt.title('Boxplot da Idade da Mãe')\n",
        "plt.xlabel('Idade')\n",
        "plt.show()\n",
        "\n"
      ]
    },
    {
      "cell_type": "markdown",
      "metadata": {
        "id": "tRa6K9TiFtId"
      },
      "source": [
        "####  2) Faça um boxplot do peso do bebê"
      ]
    },
    {
      "cell_type": "code",
      "execution_count": 13,
      "metadata": {
        "colab": {
          "base_uri": "https://localhost:8080/",
          "height": 565
        },
        "id": "It8io2JrFtId",
        "outputId": "ff5dd501-01b1-4bf8-c2d3-708d1ee348e4"
      },
      "outputs": [
        {
          "output_type": "display_data",
          "data": {
            "text/plain": [
              "<Figure size 1000x600 with 1 Axes>"
            ],
            "image/png": "[encoded data removed]"
          },
          "metadata": {}
        }
      ],
      "source": [
        "peso_bebe = df['PESO']\n",
        "\n",
        "# Criar o boxplot\n",
        "plt.figure(figsize=(10, 6))\n",
        "plt.boxplot(peso_bebe.dropna(), vert=False)\n",
        "plt.title('Boxplot do Peso do Bebê')\n",
        "plt.xlabel('Peso')\n",
        "plt.show()"
      ]
    },
    {
      "cell_type": "markdown",
      "metadata": {
        "id": "Q7lMRtQYFtId"
      },
      "source": [
        "####  3) Faça um histograma da idade da mãe"
      ]
    },
    {
      "cell_type": "code",
      "execution_count": 14,
      "metadata": {
        "colab": {
          "base_uri": "https://localhost:8080/",
          "height": 562
        },
        "id": "nesIqf7CFtIe",
        "outputId": "4ca3b133-489b-4236-b751-dd0a6ab584ad"
      },
      "outputs": [
        {
          "output_type": "display_data",
          "data": {
            "text/plain": [
              "<Figure size 1000x600 with 1 Axes>"
            ],
            "image/png": "[encoded data removed]"
          },
          "metadata": {}
        }
      ],
      "source": [
        "plt.figure(figsize=(10, 6))\n",
        "plt.hist(idade_mae.dropna(), bins=20, edgecolor='black')\n",
        "plt.title('Histograma da Idade da Mãe')\n",
        "plt.xlabel('Idade')\n",
        "plt.ylabel('Frequência')\n",
        "plt.show()"
      ]
    },
    {
      "cell_type": "markdown",
      "metadata": {
        "id": "p5gZQHjsFtIe"
      },
      "source": [
        "#### 4) Faça um histograma do peso do bebê"
      ]
    },
    {
      "cell_type": "code",
      "execution_count": 15,
      "metadata": {
        "colab": {
          "base_uri": "https://localhost:8080/",
          "height": 563
        },
        "id": "wUC8bhkIFtIe",
        "outputId": "b74d64ff-19d1-4366-b091-c0a3ef1667af"
      },
      "outputs": [
        {
          "output_type": "display_data",
          "data": {
            "text/plain": [
              "<Figure size 1000x600 with 1 Axes>"
            ],
            "image/png": "[encoded data removed]"
          },
          "metadata": {}
        }
      ],
      "source": [
        "plt.figure(figsize=(10, 6))\n",
        "plt.hist(peso_bebe.dropna(), bins=20, edgecolor='black')\n",
        "plt.title('Histograma do Peso do Bebê')\n",
        "plt.xlabel('Peso (gramas)')\n",
        "plt.ylabel('Frequência')\n",
        "plt.show()"
      ]
    }
  ],
  "metadata": {
    "kernelspec": {
      "display_name": "Python 3",
      "language": "python",
      "name": "python3"
    },
    "language_info": {
      "codemirror_mode": {
        "name": "ipython",
        "version": 3
      },
      "file_extension": ".py",
      "mimetype": "text/x-python",
      "name": "python",
      "nbconvert_exporter": "python",
      "pygments_lexer": "ipython3",
      "version": "3.8.5"
    },
    "colab": {
      "provenance": []
    }
  },
  "nbformat": 4,
  "nbformat_minor": 0
}
